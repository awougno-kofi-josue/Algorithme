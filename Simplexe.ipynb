{
 "cells": [
  {
   "cell_type": "code",
   "execution_count": 3,
   "id": "8c0d4cba-384e-4e39-b068-4246ed7bad4f",
   "metadata": {},
   "outputs": [],
   "source": [
    "import numpy as np\n",
    "\n",
    "def saisir_donnees():\n",
    "    n = int(input(\"Nombre de variables de décision : \"))\n",
    "    m = int(input(\"Nombre de contraintes (≤) : \"))\n",
    "\n",
    "    print(\"\\n--- Coefficients de la fonction objectif ---\")\n",
    "    c = np.array([float(input(f\"c[{i+1}] = \")) for i in range(n)])\n",
    "\n",
    "    A = np.zeros((m, n))\n",
    "    b = np.zeros(m)\n",
    "\n",
    "    print(\"\\n--- Contraintes ---\")\n",
    "    for i in range(m):\n",
    "        print(f\"Contrainte {i+1} :\")\n",
    "        for j in range(n):\n",
    "            A[i, j] = float(input(f\"a[{i+1},{j+1}] = \"))\n",
    "        b[i] = float(input(f\"b[{i+1}] = \"))\n",
    "\n",
    "    return n, m, c, A, b\n"
   ]
  },
  {
   "cell_type": "code",
   "execution_count": 4,
   "id": "b2e38600-7482-48b8-9d7f-572b3452d93e",
   "metadata": {},
   "outputs": [],
   "source": [
    "def construire_tableau(n, m, c, A, b):\n",
    "    # Ajout des variables d'écart\n",
    "    tableau = np.zeros((m + 1, n + m + 1))\n",
    "    tableau[:-1, :n] = A\n",
    "    tableau[:-1, n:n + m] = np.eye(m)\n",
    "    tableau[:-1, -1] = b\n",
    "    tableau[-1, :n] = -c\n",
    "    return tableau\n"
   ]
  },
  {
   "cell_type": "code",
   "execution_count": 5,
   "id": "67088dc5-5c78-49bd-946f-b21d636521f2",
   "metadata": {},
   "outputs": [],
   "source": [
    "def pivot(tableau, ligne, colonne):\n",
    "    tableau[ligne] = tableau[ligne] / tableau[ligne, colonne]\n",
    "    for i in range(len(tableau)):\n",
    "        if i != ligne:\n",
    "            tableau[i] -= tableau[i, colonne] * tableau[ligne]\n"
   ]
  },
  {
   "cell_type": "code",
   "execution_count": 6,
   "id": "a7073cd3-060d-4e78-b0f4-a98825a7f72a",
   "metadata": {},
   "outputs": [],
   "source": [
    "def simplexe(tableau):\n",
    "    while any(tableau[-1, :-1] < 0):\n",
    "        col = np.argmin(tableau[-1, :-1])       # variable entrante\n",
    "        if all(tableau[:-1, col] <= 0):\n",
    "            raise ValueError(\"Problème non borné.\")\n",
    "        rapports = np.where(tableau[:-1, col] > 0,\n",
    "                            tableau[:-1, -1] / tableau[:-1, col],\n",
    "                            np.inf)\n",
    "        ligne = np.argmin(rapports)             # variable sortante\n",
    "        pivot(tableau, ligne, col)\n",
    "    return tableau\n"
   ]
  },
  {
   "cell_type": "code",
   "execution_count": 7,
   "id": "871910c6-c0c2-45ec-9ae9-aa5e818bf6b8",
   "metadata": {},
   "outputs": [],
   "source": [
    "def afficher_solution(tableau, n, m):\n",
    "    x = np.zeros(n)\n",
    "    for j in range(n):\n",
    "        col = tableau[:, j]\n",
    "        if list(col[:-1]).count(0) == m - 1 and np.isclose(col[-1], 0):\n",
    "            i = np.where(col[:-1] == 1)[0]\n",
    "            if len(i) == 1:\n",
    "                x[j] = tableau[i[0], -1]\n",
    "    print(\"\\nSolution optimale :\")\n",
    "    for i, val in enumerate(x, 1):\n",
    "        print(f\"x{i} = {val}\")\n",
    "    print(f\"Valeur optimale Z = {tableau[-1, -1]}\")\n",
    "\n"
   ]
  },
  {
   "cell_type": "code",
   "execution_count": 11,
   "id": "b76c55d0-6611-4be6-8518-9dcb49f3ab83",
   "metadata": {},
   "outputs": [
    {
     "name": "stdin",
     "output_type": "stream",
     "text": [
      "Nombre de variables de décision :  2\n",
      "Nombre de contraintes (≤) :  2\n"
     ]
    },
    {
     "name": "stdout",
     "output_type": "stream",
     "text": [
      "\n",
      "--- Coefficients de la fonction objectif ---\n"
     ]
    },
    {
     "name": "stdin",
     "output_type": "stream",
     "text": [
      "c[1] =  3\n",
      "c[2] =  5\n"
     ]
    },
    {
     "name": "stdout",
     "output_type": "stream",
     "text": [
      "\n",
      "--- Contraintes ---\n",
      "Contrainte 1 :\n"
     ]
    },
    {
     "name": "stdin",
     "output_type": "stream",
     "text": [
      "a[1,1] =  1\n",
      "a[1,2] =  2\n",
      "b[1] =  6\n"
     ]
    },
    {
     "name": "stdout",
     "output_type": "stream",
     "text": [
      "Contrainte 2 :\n"
     ]
    },
    {
     "name": "stdin",
     "output_type": "stream",
     "text": [
      "a[2,1] =  3\n",
      "a[2,2] =  2\n",
      "b[2] =  12\n"
     ]
    },
    {
     "name": "stdout",
     "output_type": "stream",
     "text": [
      "\n",
      "Solution optimale :\n",
      "x1 = 3.0\n",
      "x2 = 1.5\n",
      "Valeur optimale Z = 16.5\n"
     ]
    }
   ],
   "source": [
    "if __name__ == \"__main__\":\n",
    "    n, m, c, A, b = saisir_donnees()\n",
    "    tab = construire_tableau(n, m, c, A, b)\n",
    "    tab_final = simplexe(tab)\n",
    "    afficher_solution(tab_final, n, m)\n"
   ]
  },
  {
   "cell_type": "code",
   "execution_count": null,
   "id": "3fbe7325-4a07-4941-9d8d-14175e644bc4",
   "metadata": {},
   "outputs": [],
   "source": []
  }
 ],
 "metadata": {
  "kernelspec": {
   "display_name": "Python 3 (ipykernel)",
   "language": "python",
   "name": "python3"
  },
  "language_info": {
   "codemirror_mode": {
    "name": "ipython",
    "version": 3
   },
   "file_extension": ".py",
   "mimetype": "text/x-python",
   "name": "python",
   "nbconvert_exporter": "python",
   "pygments_lexer": "ipython3",
   "version": "3.13.5"
  }
 },
 "nbformat": 4,
 "nbformat_minor": 5
}
