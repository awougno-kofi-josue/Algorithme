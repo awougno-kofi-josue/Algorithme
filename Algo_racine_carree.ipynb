{
 "cells": [
  {
   "cell_type": "markdown",
   "id": "f88ec525-eb7f-417e-b6d5-93e97852858f",
   "metadata": {},
   "source": [
    "# 🟢 Calcul de la Racine Carrée avec la Méthode de Newton-Raphson\n",
    "\n",
    "---\n",
    "\n",
    "## 1️⃣ Introduction\n",
    "**Objectif :** Implémenter un algorithme pour calculer la racine carrée d’un nombre sans utiliser de fonctions prédéfinies.  \n",
    "**Méthode choisie :** Newton-Raphson, une méthode itérative pour approcher les racines d’une fonction.  \n",
    "\n",
    "> 💡 Astuce : Pour un nombre $i$, la racine carrée $\\sqrt{i}$ est la solution de $x^2 - i = 0$.\n",
    "\n",
    "---\n",
    "\n",
    "## 2️⃣ Formule de mise à jour\n",
    "- Méthode itérative :\n",
    "\n",
    "$\n",
    "x_{n+1} = \\frac{1}{2} \\left( x_n + \\frac{i}{x_n} \\right)\n",
    "$\n",
    "\n",
    "- Critère d’arrêt :  \n",
    "\n",
    "$\n",
    "|x_{n+1} - x_n| < \\epsilon\n",
    "$\n",
    "\n",
    "- Paramètres :  \n",
    "  - `i` : nombre dont on veut la racine  \n",
    "  - $x_0$ : valeur initiale (optionnelle, par défaut \\(i/2\\))  \n",
    "  - $\\epsilon$ : précision souhaitée  \n",
    "\n",
    "---\n",
    "\n",
    "## 3️⃣ Implémentation en Python\n",
    "\n"
   ]
  },
  {
   "cell_type": "code",
   "execution_count": 9,
   "id": "fcc2241a-7fce-43e0-ada9-b7d69bcd52b5",
   "metadata": {},
   "outputs": [],
   "source": [
    "def racine(i, x0=None):\n",
    "    \"\"\"\n",
    "    Calcule la racine carrée de i avec la méthode de Newton-Raphson.\n",
    "    \n",
    "    i : nombre dont on veut la racine carrée\n",
    "    x0 : valeur initiale (optionnelle)\n",
    "    \"\"\"\n",
    "    if i < 0:\n",
    "        print(\"Impossible de calculer la racine carrée d'un nombre négatif !\")\n",
    "        return\n",
    "    elif i == 0:\n",
    "        print(\"La racine carrée de 0 est 0\")\n",
    "        return\n",
    "    if i < 0:\n",
    "        print(\"Impossible de calculer la racine carrée d'un nombre négatif !\")\n",
    "        return\n",
    "    \n",
    "    x = x0 if x0 is not None else i / 2  # point de départ\n",
    "    precision = 1e-12\n",
    "    iteration = 0\n",
    "\n",
    "    while True:\n",
    "        iteration += 1\n",
    "        x_new = (x + i / x) / 2\n",
    "        if abs(x_new - x) < precision:\n",
    "            break\n",
    "        x = x_new\n",
    "\n",
    "    print(f\"\\nLa racine carrée de {i} est {x:.12f} (calculée en {iteration} itérations)\")\n"
   ]
  },
  {
   "cell_type": "code",
   "execution_count": 11,
   "id": "cd396284-dad8-4c56-9279-661d6cc027d7",
   "metadata": {},
   "outputs": [
    {
     "name": "stdin",
     "output_type": "stream",
     "text": [
      "Vous voulez calculer la racine carrée de quel nombre ?  12\n"
     ]
    },
    {
     "name": "stdout",
     "output_type": "stream",
     "text": [
      "\n",
      "La racine carrée de 12.0 est 3.464101615138 (calculée en 6 itérations)\n"
     ]
    },
    {
     "name": "stdin",
     "output_type": "stream",
     "text": [
      "Voulez-vous calculer une autre racine ? (o/n) :  O\n",
      "Vous voulez calculer la racine carrée de quel nombre ?  16\n"
     ]
    },
    {
     "name": "stdout",
     "output_type": "stream",
     "text": [
      "\n",
      "La racine carrée de 16.0 est 4.000000000000 (calculée en 6 itérations)\n"
     ]
    },
    {
     "name": "stdin",
     "output_type": "stream",
     "text": [
      "Voulez-vous calculer une autre racine ? (o/n) :  O\n",
      "Vous voulez calculer la racine carrée de quel nombre ?  52\n"
     ]
    },
    {
     "name": "stdout",
     "output_type": "stream",
     "text": [
      "\n",
      "La racine carrée de 52.0 est 7.211102550928 (calculée en 7 itérations)\n"
     ]
    },
    {
     "name": "stdin",
     "output_type": "stream",
     "text": [
      "Voulez-vous calculer une autre racine ? (o/n) :  O\n",
      "Vous voulez calculer la racine carrée de quel nombre ?  25\n"
     ]
    },
    {
     "name": "stdout",
     "output_type": "stream",
     "text": [
      "\n",
      "La racine carrée de 25.0 est 5.000000000000 (calculée en 7 itérations)\n"
     ]
    },
    {
     "name": "stdin",
     "output_type": "stream",
     "text": [
      "Voulez-vous calculer une autre racine ? (o/n) :  O\n",
      "Vous voulez calculer la racine carrée de quel nombre ?  1999\n"
     ]
    },
    {
     "name": "stdout",
     "output_type": "stream",
     "text": [
      "\n",
      "La racine carrée de 1999.0 est 44.710177812216 (calculée en 10 itérations)\n"
     ]
    },
    {
     "name": "stdin",
     "output_type": "stream",
     "text": [
      "Voulez-vous calculer une autre racine ? (o/n) :  O\n",
      "Vous voulez calculer la racine carrée de quel nombre ?  121\n"
     ]
    },
    {
     "name": "stdout",
     "output_type": "stream",
     "text": [
      "\n",
      "La racine carrée de 121.0 est 11.000000000000 (calculée en 8 itérations)\n"
     ]
    },
    {
     "name": "stdin",
     "output_type": "stream",
     "text": [
      "Voulez-vous calculer une autre racine ? (o/n) :  O\n",
      "Vous voulez calculer la racine carrée de quel nombre ?  45\n"
     ]
    },
    {
     "name": "stdout",
     "output_type": "stream",
     "text": [
      "\n",
      "La racine carrée de 45.0 est 6.708203932499 (calculée en 7 itérations)\n"
     ]
    },
    {
     "name": "stdin",
     "output_type": "stream",
     "text": [
      "Voulez-vous calculer une autre racine ? (o/n) :  O\n",
      "Vous voulez calculer la racine carrée de quel nombre ?  900\n"
     ]
    },
    {
     "name": "stdout",
     "output_type": "stream",
     "text": [
      "\n",
      "La racine carrée de 900.0 est 30.000000000000 (calculée en 9 itérations)\n"
     ]
    },
    {
     "name": "stdin",
     "output_type": "stream",
     "text": [
      "Voulez-vous calculer une autre racine ? (o/n) :  N\n"
     ]
    },
    {
     "name": "stdout",
     "output_type": "stream",
     "text": [
      "\n",
      " Merci d'avoir utilisé le programme !\n"
     ]
    }
   ],
   "source": [
    "\n",
    "while True:\n",
    "    try:\n",
    "        nbre = float(input(\"Vous voulez calculer la racine carrée de quel nombre ? \"))\n",
    "        racine(nbre)\n",
    "\n",
    "        \n",
    "        cont = input(\"Voulez-vous calculer une autre racine ? (o/n) : \").strip().lower()\n",
    "        if cont != 'o':\n",
    "            print(\"\\n Merci d'avoir utilisé le programme !\")\n",
    "            break\n",
    "        \n",
    "    except ValueError:\n",
    "        print(\"Veuillez entrer un nombre valide.\")\n"
   ]
  },
  {
   "cell_type": "code",
   "execution_count": null,
   "id": "df5e3773-bfad-4095-9d6c-342013c469ab",
   "metadata": {},
   "outputs": [],
   "source": []
  },
  {
   "cell_type": "code",
   "execution_count": null,
   "id": "0006ece2-e7ae-41c2-9797-4404f051f8d8",
   "metadata": {},
   "outputs": [],
   "source": []
  },
  {
   "cell_type": "code",
   "execution_count": null,
   "id": "5e423a1c-7bf0-475f-bed8-6bea07966ed2",
   "metadata": {},
   "outputs": [],
   "source": []
  }
 ],
 "metadata": {
  "kernelspec": {
   "display_name": "Python 3 (ipykernel)",
   "language": "python",
   "name": "python3"
  },
  "language_info": {
   "codemirror_mode": {
    "name": "ipython",
    "version": 3
   },
   "file_extension": ".py",
   "mimetype": "text/x-python",
   "name": "python",
   "nbconvert_exporter": "python",
   "pygments_lexer": "ipython3",
   "version": "3.13.5"
  }
 },
 "nbformat": 4,
 "nbformat_minor": 5
}
